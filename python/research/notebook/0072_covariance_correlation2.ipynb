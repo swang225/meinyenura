{
 "cells": [
  {
   "cell_type": "code",
   "execution_count": 6,
   "id": "4e661056-51cf-494b-b936-810c50f2f936",
   "metadata": {},
   "outputs": [],
   "source": [
    "import numpy as np\n",
    "import pandas as pd\n",
    "import matplotlib.pyplot as plt"
   ]
  },
  {
   "cell_type": "code",
   "execution_count": 11,
   "id": "1f05dd27-f844-43e9-a60e-4734c6d9e821",
   "metadata": {},
   "outputs": [
    {
     "data": {
      "image/png": "[encoded data removed]",
      "text/plain": [
       "<Figure size 640x480 with 1 Axes>"
      ]
     },
     "metadata": {},
     "output_type": "display_data"
    }
   ],
   "source": [
    "num_samples = 1000\n",
    "\n",
    "# The desired mean values of the sample.\n",
    "mu = np.array([5.0, 0.0])\n",
    "\n",
    "# The desired covariance matrix.\n",
    "r = np.array([\n",
    "        [  3.40, 3],\n",
    "        [ 3,  5.50],\n",
    "    ])\n",
    "\n",
    "# Generate the random samples.\n",
    "rng = np.random.default_rng()\n",
    "y = rng.multivariate_normal(mu, r, size=num_samples)\n",
    "\n",
    "# Plot various projections of the samples.\n",
    "plt.subplot(2,2,1)\n",
    "plt.plot(y[:,0], y[:,1], 'b.', alpha=0.25)\n",
    "plt.plot(mu[0], mu[1], 'ro', ms=3.5)\n",
    "plt.ylabel('y[1]')\n",
    "plt.axis('equal')\n",
    "plt.grid(True)\n",
    "\n",
    "plt.show()"
   ]
  },
  {
   "cell_type": "code",
   "execution_count": 17,
   "id": "77f73b82-f71f-44d4-b8a3-90aa2db0027c",
   "metadata": {},
   "outputs": [],
   "source": [
    "df1 = pd.DataFrame(data={\"ts1\": y[:,0], \"ts2\": y[:,1]})"
   ]
  },
  {
   "cell_type": "code",
   "execution_count": 18,
   "id": "adfbb0dd-054d-4d7e-ac43-ccbaa881af30",
   "metadata": {},
   "outputs": [
    {
     "data": {
      "text/html": [
       "<div>\n",
       "<style scoped>\n",
       "    .dataframe tbody tr th:only-of-type {\n",
       "        vertical-align: middle;\n",
       "    }\n",
       "\n",
       "    .dataframe tbody tr th {\n",
       "        vertical-align: top;\n",
       "    }\n",
       "\n",
       "    .dataframe thead th {\n",
       "        text-align: right;\n",
       "    }\n",
       "</style>\n",
       "<table border=\"1\" class=\"dataframe\">\n",
       "  <thead>\n",
       "    <tr style=\"text-align: right;\">\n",
       "      <th></th>\n",
       "      <th>ts1</th>\n",
       "      <th>ts2</th>\n",
       "    </tr>\n",
       "  </thead>\n",
       "  <tbody>\n",
       "    <tr>\n",
       "      <th>ts1</th>\n",
       "      <td>3.463068</td>\n",
       "      <td>3.192010</td>\n",
       "    </tr>\n",
       "    <tr>\n",
       "      <th>ts2</th>\n",
       "      <td>3.192010</td>\n",
       "      <td>5.980575</td>\n",
       "    </tr>\n",
       "  </tbody>\n",
       "</table>\n",
       "</div>"
      ],
      "text/plain": [
       "          ts1       ts2\n",
       "ts1  3.463068  3.192010\n",
       "ts2  3.192010  5.980575"
      ]
     },
     "execution_count": 18,
     "metadata": {},
     "output_type": "execute_result"
    }
   ],
   "source": [
    "df1.cov()"
   ]
  },
  {
   "cell_type": "code",
   "execution_count": 19,
   "id": "412fa770-e1e4-4098-a0d5-f34912fe793a",
   "metadata": {},
   "outputs": [
    {
     "data": {
      "text/html": [
       "<div>\n",
       "<style scoped>\n",
       "    .dataframe tbody tr th:only-of-type {\n",
       "        vertical-align: middle;\n",
       "    }\n",
       "\n",
       "    .dataframe tbody tr th {\n",
       "        vertical-align: top;\n",
       "    }\n",
       "\n",
       "    .dataframe thead th {\n",
       "        text-align: right;\n",
       "    }\n",
       "</style>\n",
       "<table border=\"1\" class=\"dataframe\">\n",
       "  <thead>\n",
       "    <tr style=\"text-align: right;\">\n",
       "      <th></th>\n",
       "      <th>ts1</th>\n",
       "      <th>ts2</th>\n",
       "    </tr>\n",
       "  </thead>\n",
       "  <tbody>\n",
       "    <tr>\n",
       "      <th>ts1</th>\n",
       "      <td>1.000000</td>\n",
       "      <td>0.701394</td>\n",
       "    </tr>\n",
       "    <tr>\n",
       "      <th>ts2</th>\n",
       "      <td>0.701394</td>\n",
       "      <td>1.000000</td>\n",
       "    </tr>\n",
       "  </tbody>\n",
       "</table>\n",
       "</div>"
      ],
      "text/plain": [
       "          ts1       ts2\n",
       "ts1  1.000000  0.701394\n",
       "ts2  0.701394  1.000000"
      ]
     },
     "execution_count": 19,
     "metadata": {},
     "output_type": "execute_result"
    }
   ],
   "source": [
    "df1.corr()"
   ]
  },
  {
   "cell_type": "code",
   "execution_count": 20,
   "id": "5035bf6b-4fb3-4706-8c77-aed807d71ba7",
   "metadata": {},
   "outputs": [],
   "source": [
    "df2 = df1.copy()\n",
    "df2[\"ts1\"] = df2[\"ts1\"] * 2"
   ]
  },
  {
   "cell_type": "code",
   "execution_count": 22,
   "id": "1eef0780-6fb3-49a1-8f2e-c99ae500a2d5",
   "metadata": {},
   "outputs": [
    {
     "data": {
      "text/html": [
       "<div>\n",
       "<style scoped>\n",
       "    .dataframe tbody tr th:only-of-type {\n",
       "        vertical-align: middle;\n",
       "    }\n",
       "\n",
       "    .dataframe tbody tr th {\n",
       "        vertical-align: top;\n",
       "    }\n",
       "\n",
       "    .dataframe thead th {\n",
       "        text-align: right;\n",
       "    }\n",
       "</style>\n",
       "<table border=\"1\" class=\"dataframe\">\n",
       "  <thead>\n",
       "    <tr style=\"text-align: right;\">\n",
       "      <th></th>\n",
       "      <th>ts1</th>\n",
       "      <th>ts2</th>\n",
       "    </tr>\n",
       "  </thead>\n",
       "  <tbody>\n",
       "    <tr>\n",
       "      <th>ts1</th>\n",
       "      <td>13.852272</td>\n",
       "      <td>6.384021</td>\n",
       "    </tr>\n",
       "    <tr>\n",
       "      <th>ts2</th>\n",
       "      <td>6.384021</td>\n",
       "      <td>5.980575</td>\n",
       "    </tr>\n",
       "  </tbody>\n",
       "</table>\n",
       "</div>"
      ],
      "text/plain": [
       "           ts1       ts2\n",
       "ts1  13.852272  6.384021\n",
       "ts2   6.384021  5.980575"
      ]
     },
     "execution_count": 22,
     "metadata": {},
     "output_type": "execute_result"
    }
   ],
   "source": [
    "df2.cov()"
   ]
  },
  {
   "cell_type": "code",
   "execution_count": 23,
   "id": "7916a999-6076-4563-ae20-62a0499ff1b1",
   "metadata": {},
   "outputs": [
    {
     "data": {
      "text/html": [
       "<div>\n",
       "<style scoped>\n",
       "    .dataframe tbody tr th:only-of-type {\n",
       "        vertical-align: middle;\n",
       "    }\n",
       "\n",
       "    .dataframe tbody tr th {\n",
       "        vertical-align: top;\n",
       "    }\n",
       "\n",
       "    .dataframe thead th {\n",
       "        text-align: right;\n",
       "    }\n",
       "</style>\n",
       "<table border=\"1\" class=\"dataframe\">\n",
       "  <thead>\n",
       "    <tr style=\"text-align: right;\">\n",
       "      <th></th>\n",
       "      <th>ts1</th>\n",
       "      <th>ts2</th>\n",
       "    </tr>\n",
       "  </thead>\n",
       "  <tbody>\n",
       "    <tr>\n",
       "      <th>ts1</th>\n",
       "      <td>1.000000</td>\n",
       "      <td>0.701394</td>\n",
       "    </tr>\n",
       "    <tr>\n",
       "      <th>ts2</th>\n",
       "      <td>0.701394</td>\n",
       "      <td>1.000000</td>\n",
       "    </tr>\n",
       "  </tbody>\n",
       "</table>\n",
       "</div>"
      ],
      "text/plain": [
       "          ts1       ts2\n",
       "ts1  1.000000  0.701394\n",
       "ts2  0.701394  1.000000"
      ]
     },
     "execution_count": 23,
     "metadata": {},
     "output_type": "execute_result"
    }
   ],
   "source": [
    "df2.corr()"
   ]
  },
  {
   "cell_type": "code",
   "execution_count": 27,
   "id": "041f2a58-a5f0-49cc-b607-38c65e73ff84",
   "metadata": {},
   "outputs": [],
   "source": [
    "df3 = df1.copy()\n",
    "df3[\"ts1\"] = df3[\"ts1\"] * 0.2"
   ]
  },
  {
   "cell_type": "code",
   "execution_count": 28,
   "id": "862a8a0a-234d-4d83-ba86-8230f63526fd",
   "metadata": {},
   "outputs": [
    {
     "data": {
      "text/html": [
       "<div>\n",
       "<style scoped>\n",
       "    .dataframe tbody tr th:only-of-type {\n",
       "        vertical-align: middle;\n",
       "    }\n",
       "\n",
       "    .dataframe tbody tr th {\n",
       "        vertical-align: top;\n",
       "    }\n",
       "\n",
       "    .dataframe thead th {\n",
       "        text-align: right;\n",
       "    }\n",
       "</style>\n",
       "<table border=\"1\" class=\"dataframe\">\n",
       "  <thead>\n",
       "    <tr style=\"text-align: right;\">\n",
       "      <th></th>\n",
       "      <th>ts1</th>\n",
       "      <th>ts2</th>\n",
       "    </tr>\n",
       "  </thead>\n",
       "  <tbody>\n",
       "    <tr>\n",
       "      <th>ts1</th>\n",
       "      <td>0.138523</td>\n",
       "      <td>0.638402</td>\n",
       "    </tr>\n",
       "    <tr>\n",
       "      <th>ts2</th>\n",
       "      <td>0.638402</td>\n",
       "      <td>5.980575</td>\n",
       "    </tr>\n",
       "  </tbody>\n",
       "</table>\n",
       "</div>"
      ],
      "text/plain": [
       "          ts1       ts2\n",
       "ts1  0.138523  0.638402\n",
       "ts2  0.638402  5.980575"
      ]
     },
     "execution_count": 28,
     "metadata": {},
     "output_type": "execute_result"
    }
   ],
   "source": [
    "df3.cov()"
   ]
  },
  {
   "cell_type": "code",
   "execution_count": 29,
   "id": "6eae1361-74eb-4264-87f8-0f8f1c6d5ae1",
   "metadata": {},
   "outputs": [
    {
     "data": {
      "text/html": [
       "<div>\n",
       "<style scoped>\n",
       "    .dataframe tbody tr th:only-of-type {\n",
       "        vertical-align: middle;\n",
       "    }\n",
       "\n",
       "    .dataframe tbody tr th {\n",
       "        vertical-align: top;\n",
       "    }\n",
       "\n",
       "    .dataframe thead th {\n",
       "        text-align: right;\n",
       "    }\n",
       "</style>\n",
       "<table border=\"1\" class=\"dataframe\">\n",
       "  <thead>\n",
       "    <tr style=\"text-align: right;\">\n",
       "      <th></th>\n",
       "      <th>ts1</th>\n",
       "      <th>ts2</th>\n",
       "    </tr>\n",
       "  </thead>\n",
       "  <tbody>\n",
       "    <tr>\n",
       "      <th>ts1</th>\n",
       "      <td>1.000000</td>\n",
       "      <td>0.701394</td>\n",
       "    </tr>\n",
       "    <tr>\n",
       "      <th>ts2</th>\n",
       "      <td>0.701394</td>\n",
       "      <td>1.000000</td>\n",
       "    </tr>\n",
       "  </tbody>\n",
       "</table>\n",
       "</div>"
      ],
      "text/plain": [
       "          ts1       ts2\n",
       "ts1  1.000000  0.701394\n",
       "ts2  0.701394  1.000000"
      ]
     },
     "execution_count": 29,
     "metadata": {},
     "output_type": "execute_result"
    }
   ],
   "source": [
    "df3.corr()"
   ]
  },
  {
   "cell_type": "code",
   "execution_count": null,
   "id": "652ae2eb-5ec8-4aaa-88fa-7752db4a397c",
   "metadata": {},
   "outputs": [],
   "source": []
  }
 ],
 "metadata": {
  "kernelspec": {
   "display_name": "Python 3 (ipykernel)",
   "language": "python",
   "name": "python3"
  },
  "language_info": {
   "codemirror_mode": {
    "name": "ipython",
    "version": 3
   },
   "file_extension": ".py",
   "mimetype": "text/x-python",
   "name": "python",
   "nbconvert_exporter": "python",
   "pygments_lexer": "ipython3",
   "version": "3.9.5"
  }
 },
 "nbformat": 4,
 "nbformat_minor": 5
}
